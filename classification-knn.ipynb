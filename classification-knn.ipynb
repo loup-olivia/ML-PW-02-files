{
 "cells": [
  {
   "cell_type": "markdown",
   "metadata": {},
   "source": [
    "# Exercice 4 Optional – Classification with KNN - Fashion MNIST and CIFAR10"
   ]
  },
  {
   "cell_type": "code",
   "execution_count": null,
   "metadata": {},
   "outputs": [],
   "source": [
    "import numpy as np\n",
    "from statistics import mode\n",
    "import matplotlib.pyplot as plt\n",
    "import pandas as pd\n",
    "import os"
   ]
  },
  {
   "cell_type": "markdown",
   "metadata": {},
   "source": [
    "a) Redo the experiments of exercise 3 using the Fashion MNIST dataset from Zalando :\n",
    "https://github.com/zalandoresearch/fashion-mnist. Report your best performances\n",
    "and compare it to the performances obtained on digit MNIST."
   ]
  },
  {
   "cell_type": "code",
   "execution_count": null,
   "metadata": {},
   "outputs": [],
   "source": []
  },
  {
   "cell_type": "markdown",
   "metadata": {},
   "source": [
    "b) Redo the experiments of exercise 3 using the CIFAR10 dataset : https://www.cs.\n",
    "toronto.edu/~kriz/cifar.html. Report your best performances and compare it to\n",
    "the performances obtained on Fashion MNIST and digit MNIST."
   ]
  },
  {
   "cell_type": "code",
   "execution_count": null,
   "metadata": {},
   "outputs": [],
   "source": []
  },
  {
   "cell_type": "markdown",
   "metadata": {},
   "source": [
    "c) Optional difficult : using pixel based L1 distance is a bit of a naive approach. Attempt to\n",
    "perform more advanced feature extraction on the images such as projection histogram\n",
    "or Linear Binary pattern to increase your performance on Fashion MNIST."
   ]
  },
  {
   "cell_type": "code",
   "execution_count": null,
   "metadata": {},
   "outputs": [],
   "source": []
  }
 ],
 "metadata": {
  "language_info": {
   "name": "python"
  }
 },
 "nbformat": 4,
 "nbformat_minor": 2
}
